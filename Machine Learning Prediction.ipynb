{
 "cells": [
  {
   "cell_type": "markdown",
   "metadata": {},
   "source": [
    "Hello, my name is Artem. I'm going to review your project!\n",
    "\n",
    "You can find my comments in <font color='green'>green</font>, <font color='blue'>blue</font> or <font color='red'>red</font> boxes like this:\n",
    "\n",
    "<div class=\"alert alert-block alert-success\">\n",
    "<b>Success:</b> if everything is done succesfully\n",
    "</div>\n",
    "\n",
    "<div class=\"alert alert-block alert-info\">\n",
    "<b>Improve: </b> \"Improve\" comments mean that there are tiny corrections that could help you to make your project better.\n",
    "</div>\n",
    "\n",
    "<div class=\"alert alert-block alert-danger\">\n",
    "<b>Needs fixing:</b> if the block requires some corrections. Work can't be accepted with the red comments.\n",
    "</div>\n",
    "\n",
    "### <font color='orange'>General feedback</font>\n",
    "* I'm glad to say that you executed your project really well.\n",
    "* Your project has passed code-review. Congratulations!\n",
    "* You've achieved good score! Well done!\n",
    "* Parameters tuning was done correctly!\n",
    "* You can make your project even better by working on the \"improve\" comments.\n",
    "* You're on the right track. Keep it up!"
   ]
  },
  {
   "cell_type": "markdown",
   "metadata": {},
   "source": [
    "<b>Machine Learning Model Prediction for Megaline Phone Company</b>\n",
    "\n",
    "<p>Company: Megaline</p>\n",
    "\n",
    "<p>Taregt: To develop a model that would analyze subscribers' behavior and recommend one of Megaline's newer plans: Smart or Ultra.</p>\n",
    "\n",
    "<p>Threshold of accuracy: 0.75%</p>\n",
    "\n",
    "<b>Table of contents</b>\n",
    "1. [Step 1. Open the data files and study the general information](#step1)\n",
    "2. [Step 2. Split the source data into training, validation, and test sets](#step2)\n",
    "3. [Step 3. Investigate the quality of different models by changing hyperparameters](#step3)\n",
    "4. [Step 4. Check the quality of the model using the test set](#step4)\n",
    "5. [Step 5. Sanity check the model](#step5)\n",
    "6. [Overall Conclusion](#conclusion)"
   ]
  },
  {
   "cell_type": "markdown",
   "metadata": {},
   "source": [
    "<b>Step 1. Open the data file and study the general information. <a name=\"step1\"></a></b>"
   ]
  },
  {
   "cell_type": "code",
   "execution_count": 140,
   "metadata": {},
   "outputs": [],
   "source": [
    "import pandas as pd\n",
    "import matplotlib.pyplot as plt\n",
    "import numpy as np\n",
    "from scipy import stats\n",
    "import seaborn as sns\n",
    "import warnings\n",
    "warnings.simplefilter(action='ignore', category=FutureWarning)\n",
    "\n",
    "#import models\n",
    "from sklearn.tree import DecisionTreeClassifier\n",
    "from sklearn.ensemble import RandomForestClassifier, AdaBoostClassifier\n",
    "from sklearn.linear_model import LogisticRegression\n",
    "from sklearn.model_selection import train_test_split \n",
    "from sklearn.metrics import accuracy_score, f1_score, confusion_matrix"
   ]
  },
  {
   "cell_type": "markdown",
   "metadata": {},
   "source": [
    "<div class=\"alert alert-block alert-success\">\n",
    "<b>Success:</b> Thank you for collecting all imports in the first cell!\n",
    "</div>"
   ]
  },
  {
   "cell_type": "code",
   "execution_count": 90,
   "metadata": {},
   "outputs": [
    {
     "name": "stdout",
     "output_type": "stream",
     "text": [
      "Head:\n",
      "\n"
     ]
    },
    {
     "data": {
      "text/html": [
       "<div>\n",
       "<style scoped>\n",
       "    .dataframe tbody tr th:only-of-type {\n",
       "        vertical-align: middle;\n",
       "    }\n",
       "\n",
       "    .dataframe tbody tr th {\n",
       "        vertical-align: top;\n",
       "    }\n",
       "\n",
       "    .dataframe thead th {\n",
       "        text-align: right;\n",
       "    }\n",
       "</style>\n",
       "<table border=\"1\" class=\"dataframe\">\n",
       "  <thead>\n",
       "    <tr style=\"text-align: right;\">\n",
       "      <th></th>\n",
       "      <th>calls</th>\n",
       "      <th>minutes</th>\n",
       "      <th>messages</th>\n",
       "      <th>mb_used</th>\n",
       "      <th>is_ultra</th>\n",
       "    </tr>\n",
       "  </thead>\n",
       "  <tbody>\n",
       "    <tr>\n",
       "      <td>0</td>\n",
       "      <td>40.0</td>\n",
       "      <td>311.90</td>\n",
       "      <td>83.0</td>\n",
       "      <td>19915.42</td>\n",
       "      <td>0</td>\n",
       "    </tr>\n",
       "    <tr>\n",
       "      <td>1</td>\n",
       "      <td>85.0</td>\n",
       "      <td>516.75</td>\n",
       "      <td>56.0</td>\n",
       "      <td>22696.96</td>\n",
       "      <td>0</td>\n",
       "    </tr>\n",
       "    <tr>\n",
       "      <td>2</td>\n",
       "      <td>77.0</td>\n",
       "      <td>467.66</td>\n",
       "      <td>86.0</td>\n",
       "      <td>21060.45</td>\n",
       "      <td>0</td>\n",
       "    </tr>\n",
       "    <tr>\n",
       "      <td>3</td>\n",
       "      <td>106.0</td>\n",
       "      <td>745.53</td>\n",
       "      <td>81.0</td>\n",
       "      <td>8437.39</td>\n",
       "      <td>1</td>\n",
       "    </tr>\n",
       "    <tr>\n",
       "      <td>4</td>\n",
       "      <td>66.0</td>\n",
       "      <td>418.74</td>\n",
       "      <td>1.0</td>\n",
       "      <td>14502.75</td>\n",
       "      <td>0</td>\n",
       "    </tr>\n",
       "  </tbody>\n",
       "</table>\n",
       "</div>"
      ],
      "text/plain": [
       "   calls  minutes  messages   mb_used  is_ultra\n",
       "0   40.0   311.90      83.0  19915.42         0\n",
       "1   85.0   516.75      56.0  22696.96         0\n",
       "2   77.0   467.66      86.0  21060.45         0\n",
       "3  106.0   745.53      81.0   8437.39         1\n",
       "4   66.0   418.74       1.0  14502.75         0"
      ]
     },
     "metadata": {},
     "output_type": "display_data"
    },
    {
     "name": "stdout",
     "output_type": "stream",
     "text": [
      "----------------------------------------------------------------------------------------------------\n",
      "Info:\n",
      "\n",
      "<class 'pandas.core.frame.DataFrame'>\n",
      "RangeIndex: 3214 entries, 0 to 3213\n",
      "Data columns (total 5 columns):\n",
      "calls       3214 non-null float64\n",
      "minutes     3214 non-null float64\n",
      "messages    3214 non-null float64\n",
      "mb_used     3214 non-null float64\n",
      "is_ultra    3214 non-null int64\n",
      "dtypes: float64(4), int64(1)\n",
      "memory usage: 125.7 KB\n"
     ]
    },
    {
     "data": {
      "text/plain": [
       "None"
      ]
     },
     "metadata": {},
     "output_type": "display_data"
    },
    {
     "name": "stdout",
     "output_type": "stream",
     "text": [
      "----------------------------------------------------------------------------------------------------\n",
      "Describe:\n",
      "\n"
     ]
    },
    {
     "data": {
      "text/html": [
       "<div>\n",
       "<style scoped>\n",
       "    .dataframe tbody tr th:only-of-type {\n",
       "        vertical-align: middle;\n",
       "    }\n",
       "\n",
       "    .dataframe tbody tr th {\n",
       "        vertical-align: top;\n",
       "    }\n",
       "\n",
       "    .dataframe thead th {\n",
       "        text-align: right;\n",
       "    }\n",
       "</style>\n",
       "<table border=\"1\" class=\"dataframe\">\n",
       "  <thead>\n",
       "    <tr style=\"text-align: right;\">\n",
       "      <th></th>\n",
       "      <th>calls</th>\n",
       "      <th>minutes</th>\n",
       "      <th>messages</th>\n",
       "      <th>mb_used</th>\n",
       "      <th>is_ultra</th>\n",
       "    </tr>\n",
       "  </thead>\n",
       "  <tbody>\n",
       "    <tr>\n",
       "      <td>count</td>\n",
       "      <td>3214.000000</td>\n",
       "      <td>3214.000000</td>\n",
       "      <td>3214.000000</td>\n",
       "      <td>3214.000000</td>\n",
       "      <td>3214.000000</td>\n",
       "    </tr>\n",
       "    <tr>\n",
       "      <td>mean</td>\n",
       "      <td>63.038892</td>\n",
       "      <td>438.208787</td>\n",
       "      <td>38.281269</td>\n",
       "      <td>17207.673836</td>\n",
       "      <td>0.306472</td>\n",
       "    </tr>\n",
       "    <tr>\n",
       "      <td>std</td>\n",
       "      <td>33.236368</td>\n",
       "      <td>234.569872</td>\n",
       "      <td>36.148326</td>\n",
       "      <td>7570.968246</td>\n",
       "      <td>0.461100</td>\n",
       "    </tr>\n",
       "    <tr>\n",
       "      <td>min</td>\n",
       "      <td>0.000000</td>\n",
       "      <td>0.000000</td>\n",
       "      <td>0.000000</td>\n",
       "      <td>0.000000</td>\n",
       "      <td>0.000000</td>\n",
       "    </tr>\n",
       "    <tr>\n",
       "      <td>25%</td>\n",
       "      <td>40.000000</td>\n",
       "      <td>274.575000</td>\n",
       "      <td>9.000000</td>\n",
       "      <td>12491.902500</td>\n",
       "      <td>0.000000</td>\n",
       "    </tr>\n",
       "    <tr>\n",
       "      <td>50%</td>\n",
       "      <td>62.000000</td>\n",
       "      <td>430.600000</td>\n",
       "      <td>30.000000</td>\n",
       "      <td>16943.235000</td>\n",
       "      <td>0.000000</td>\n",
       "    </tr>\n",
       "    <tr>\n",
       "      <td>75%</td>\n",
       "      <td>82.000000</td>\n",
       "      <td>571.927500</td>\n",
       "      <td>57.000000</td>\n",
       "      <td>21424.700000</td>\n",
       "      <td>1.000000</td>\n",
       "    </tr>\n",
       "    <tr>\n",
       "      <td>max</td>\n",
       "      <td>244.000000</td>\n",
       "      <td>1632.060000</td>\n",
       "      <td>224.000000</td>\n",
       "      <td>49745.730000</td>\n",
       "      <td>1.000000</td>\n",
       "    </tr>\n",
       "  </tbody>\n",
       "</table>\n",
       "</div>"
      ],
      "text/plain": [
       "             calls      minutes     messages       mb_used     is_ultra\n",
       "count  3214.000000  3214.000000  3214.000000   3214.000000  3214.000000\n",
       "mean     63.038892   438.208787    38.281269  17207.673836     0.306472\n",
       "std      33.236368   234.569872    36.148326   7570.968246     0.461100\n",
       "min       0.000000     0.000000     0.000000      0.000000     0.000000\n",
       "25%      40.000000   274.575000     9.000000  12491.902500     0.000000\n",
       "50%      62.000000   430.600000    30.000000  16943.235000     0.000000\n",
       "75%      82.000000   571.927500    57.000000  21424.700000     1.000000\n",
       "max     244.000000  1632.060000   224.000000  49745.730000     1.000000"
      ]
     },
     "metadata": {},
     "output_type": "display_data"
    },
    {
     "name": "stdout",
     "output_type": "stream",
     "text": [
      "\n",
      "Columns with nulls:\n"
     ]
    },
    {
     "data": {
      "text/html": [
       "<div>\n",
       "<style scoped>\n",
       "    .dataframe tbody tr th:only-of-type {\n",
       "        vertical-align: middle;\n",
       "    }\n",
       "\n",
       "    .dataframe tbody tr th {\n",
       "        vertical-align: top;\n",
       "    }\n",
       "\n",
       "    .dataframe thead th {\n",
       "        text-align: right;\n",
       "    }\n",
       "</style>\n",
       "<table border=\"1\" class=\"dataframe\">\n",
       "  <thead>\n",
       "    <tr style=\"text-align: right;\">\n",
       "      <th></th>\n",
       "      <th>Missing Values</th>\n",
       "      <th>Percent of Nulls</th>\n",
       "    </tr>\n",
       "  </thead>\n",
       "  <tbody>\n",
       "    <tr>\n",
       "      <td>calls</td>\n",
       "      <td>0</td>\n",
       "      <td>0.0</td>\n",
       "    </tr>\n",
       "    <tr>\n",
       "      <td>minutes</td>\n",
       "      <td>0</td>\n",
       "      <td>0.0</td>\n",
       "    </tr>\n",
       "    <tr>\n",
       "      <td>messages</td>\n",
       "      <td>0</td>\n",
       "      <td>0.0</td>\n",
       "    </tr>\n",
       "    <tr>\n",
       "      <td>mb_used</td>\n",
       "      <td>0</td>\n",
       "      <td>0.0</td>\n",
       "    </tr>\n",
       "    <tr>\n",
       "      <td>is_ultra</td>\n",
       "      <td>0</td>\n",
       "      <td>0.0</td>\n",
       "    </tr>\n",
       "  </tbody>\n",
       "</table>\n",
       "</div>"
      ],
      "text/plain": [
       "          Missing Values  Percent of Nulls\n",
       "calls                  0               0.0\n",
       "minutes                0               0.0\n",
       "messages               0               0.0\n",
       "mb_used                0               0.0\n",
       "is_ultra               0               0.0"
      ]
     },
     "metadata": {},
     "output_type": "display_data"
    },
    {
     "name": "stdout",
     "output_type": "stream",
     "text": [
      "----------------------------------------------------------------------------------------------------\n",
      "Shape:\n",
      "(3214, 5)\n",
      "----------------------------------------------------------------------------------------------------\n",
      "Duplicate:\n",
      "We have 0 duplicated rows.\n"
     ]
    }
   ],
   "source": [
    "try:\n",
    "    user_behavior = pd.read_csv(\"/datasets/users_behavior.csv\")\n",
    "except:\n",
    "    print(\"Could not read file:\")\n",
    "    sys.exit()\n",
    "\n",
    "def get_information(df):\n",
    "    print('Head:')\n",
    "    print()\n",
    "    display(df.head())\n",
    "    print('-'*100)\n",
    "    print('Info:')\n",
    "    print()\n",
    "    display(df.info())\n",
    "    print('-'*100)\n",
    "    print('Describe:')\n",
    "    print()\n",
    "    display(df.describe())\n",
    "    print()\n",
    "    print('Columns with nulls:')\n",
    "    display(get_percent_of_na_df(df,4))\n",
    "    print('-'*100)\n",
    "    print('Shape:')\n",
    "    print(df.shape)\n",
    "    print('-'*100)\n",
    "    print('Duplicate:')\n",
    "    print('We have {} duplicated rows.'.format(df.duplicated().sum()))\n",
    "    \n",
    "def get_percent_of_na_df(df,num):\n",
    "    df_nulls = pd.DataFrame(df.isna().sum(),columns=['Missing Values'])\n",
    "    df_nulls['Percent of Nulls'] = round(df_nulls['Missing Values'] / df.shape[0],num) *100\n",
    "    return df_nulls\n",
    "\n",
    "def get_percent_of_na(df):\n",
    "    count = 0\n",
    "    df = df.copy()\n",
    "    s = (df.isna().sum() / df.shape[0])\n",
    "    for column, percent in zip(s.index, s.values):\n",
    "        \n",
    "        num_of_nulls = df[column].isna().sum()\n",
    "        if num_of_nulls == 0:\n",
    "            continue\n",
    "        else:\n",
    "            count == 1\n",
    "        print('Column {} has {.{}%} percent of nulls, and {} of nulls'.format(column, percent,num,num_of_nulls))\n",
    "    \n",
    "    if count !=0:\n",
    "        print('There are {} columns with NA'.format(count))\n",
    "    else:\n",
    "        print()\n",
    "        print('There are no colums with NA')\n",
    "        \n",
    "get_information(user_behavior)"
   ]
  },
  {
   "cell_type": "markdown",
   "metadata": {},
   "source": [
    "<b>Conclusion</b>\n",
    "\n",
    "<p>There are no missing values or duplicated rows in the data.</p>\n",
    "<p>The features of the data set are calls, minutes, messages, and mb_used. The target that we are trying to predict is the 'is_ultra' column. The Ultra phone plan is assigned a 1 and the Smart phone plan is assigned a 0. These values represent classification. For our model we can use logistic regression, decision trees, or random forests.</p>"
   ]
  },
  {
   "cell_type": "markdown",
   "metadata": {},
   "source": [
    "<div class=\"alert alert-block alert-success\">\n",
    "<b>Success:</b> Data loading and initial analysis were done well!\n",
    "</div>"
   ]
  },
  {
   "cell_type": "code",
   "execution_count": 91,
   "metadata": {},
   "outputs": [
    {
     "data": {
      "text/plain": [
       "0    2229\n",
       "1     985\n",
       "Name: is_ultra, dtype: int64"
      ]
     },
     "execution_count": 91,
     "metadata": {},
     "output_type": "execute_result"
    }
   ],
   "source": [
    "#Find the number of each plan\n",
    "user_behavior.is_ultra.value_counts()"
   ]
  },
  {
   "cell_type": "markdown",
   "metadata": {},
   "source": [
    "<p>There are twice as many Smart plans as Ultra plans.</p>"
   ]
  },
  {
   "cell_type": "markdown",
   "metadata": {},
   "source": [
    "<div class=\"alert alert-block alert-success\">\n",
    "<b>Success:</b> Glad to see that you've noticed that classes are imbalanced.\n",
    "</div>"
   ]
  },
  {
   "cell_type": "code",
   "execution_count": 92,
   "metadata": {},
   "outputs": [],
   "source": [
    "#Assign the features and target of the model\n",
    "features = user_behavior.drop(['is_ultra'], axis=1)\n",
    "target = user_behavior[['is_ultra']]"
   ]
  },
  {
   "cell_type": "markdown",
   "metadata": {},
   "source": [
    "<b>Step 2. Split the source data into training, validation, and test sets</b><a name=\"step2\"></a></b>"
   ]
  },
  {
   "cell_type": "code",
   "execution_count": 93,
   "metadata": {},
   "outputs": [],
   "source": [
    "#Train: 60% of user_behavior data set\n",
    "#Validation: 20% of user_behavior data set\n",
    "#Test: 20% of user_behavior data set\n",
    "\n",
    "features1, features_test, target1, target_test = train_test_split(features, target, test_size=0.2, random_state=42)\n",
    "features_train, features_val, target_train, target_val = train_test_split(features1,target1, test_size=0.25, random_state=42)"
   ]
  },
  {
   "cell_type": "code",
   "execution_count": 94,
   "metadata": {},
   "outputs": [
    {
     "name": "stdout",
     "output_type": "stream",
     "text": [
      "Train set: [0.59987554]\n"
     ]
    }
   ],
   "source": [
    "print(\"Train set:\", np.array([features_train.shape[0]])/user_behavior.shape[0])"
   ]
  },
  {
   "cell_type": "code",
   "execution_count": 95,
   "metadata": {},
   "outputs": [
    {
     "name": "stdout",
     "output_type": "stream",
     "text": [
      "Validation set: [0.20006223]\n"
     ]
    }
   ],
   "source": [
    "print(\"Validation set:\", np.array([features_val.shape[0]])/user_behavior.shape[0])"
   ]
  },
  {
   "cell_type": "code",
   "execution_count": 96,
   "metadata": {},
   "outputs": [
    {
     "name": "stdout",
     "output_type": "stream",
     "text": [
      "Test set: [0.20006223]\n"
     ]
    }
   ],
   "source": [
    "print(\"Test set:\", np.array([features_test.shape[0]])/user_behavior.shape[0])"
   ]
  },
  {
   "cell_type": "markdown",
   "metadata": {},
   "source": [
    "<b>Conclusion</b>\n",
    "<p>The train, validation, and test sets make up the appropriate portion of the source data set.</p>"
   ]
  },
  {
   "cell_type": "markdown",
   "metadata": {},
   "source": [
    "<div class=\"alert alert-block alert-success\">\n",
    "<b>Success:</b> Data was split correctly. Glad to see that you've checked yourself.\n",
    "</div>"
   ]
  },
  {
   "cell_type": "markdown",
   "metadata": {},
   "source": [
    "<b>Step 3. Investigate the quality of different models by changing hyperparameters</b><a name=\"step3\"></a></b>\n",
    "\n"
   ]
  },
  {
   "cell_type": "markdown",
   "metadata": {},
   "source": [
    "<b>Model: DecisionTreeClassifier</b>"
   ]
  },
  {
   "cell_type": "code",
   "execution_count": 97,
   "metadata": {},
   "outputs": [
    {
     "name": "stdout",
     "output_type": "stream",
     "text": [
      "Accuracy: 72.0 %\n"
     ]
    }
   ],
   "source": [
    "model = DecisionTreeClassifier(random_state=12345)\n",
    "model.fit(features_train, target_train)\n",
    "accuracy = model.score(features_val, target_val)*100\n",
    "print('Accuracy:', accuracy.round(), '%')"
   ]
  },
  {
   "cell_type": "markdown",
   "metadata": {},
   "source": [
    "<p>The accuracy for this test is not high enough because the threshold for accuracy is 0.75. To get a better performance on the model we tune hyperparameters.</p>"
   ]
  },
  {
   "cell_type": "code",
   "execution_count": 98,
   "metadata": {},
   "outputs": [
    {
     "name": "stdout",
     "output_type": "stream",
     "text": [
      "Max Depth 1: 74.2%\n",
      "Max Depth 2: 77.4%\n",
      "Max Depth 3: 77.4%\n",
      "Max Depth 4: 78.1%\n",
      "Max Depth 5: 77.1%\n",
      "Max Depth 6: 78.1%\n",
      "Max Depth 7: 78.8%\n",
      "Max Depth 8: 77.4%\n",
      "Max Depth 9: 77.8%\n",
      "Max Depth 10: 77.0%\n",
      "Max Depth 11: 77.0%\n",
      "Max Depth 12: 76.5%\n",
      "Max Depth 13: 75.9%\n",
      "Max Depth 14: 76.4%\n",
      "Max Depth 15: 76.4%\n",
      "Max Depth 16: 76.0%\n",
      "Max Depth 17: 74.2%\n",
      "Max Depth 18: 72.9%\n",
      "Max Depth 19: 73.7%\n",
      "Max Depth 20: 73.1%\n"
     ]
    }
   ],
   "source": [
    "#Tune Max Depth to get a better performance on the DecisionTreeClassifier model\n",
    "for i in range(1,21):\n",
    "    model = DecisionTreeClassifier(max_depth=i, random_state=12345)\n",
    "    model.fit(features_train, target_train)\n",
    "    print('Max Depth ' + str(i)+': ' + str((model.score(features_val, target_val)*100).round(1))+'%')\n"
   ]
  },
  {
   "cell_type": "code",
   "execution_count": 152,
   "metadata": {},
   "outputs": [
    {
     "name": "stdout",
     "output_type": "stream",
     "text": [
      "Entropy  70.8 %\n"
     ]
    }
   ],
   "source": [
    "#Tune criterion to get a better performance on the DecisionTreeClassifier model\n",
    "model = DecisionTreeClassifier(random_state=12345, criterion=\"entropy\")\n",
    "model.fit(features_train, target_train.values.ravel())\n",
    "entropy = model.score(features_val, target_val)*100\n",
    "print('Entropy ', entropy.round(1), '%')"
   ]
  },
  {
   "cell_type": "markdown",
   "metadata": {},
   "source": [
    "<b>Conclusion</b>\n",
    "<p>The highest accuracy of the model is when the max depth of the decision tree is 7. The accuracy is 78.8%.<p>\n",
    "\n",
    "<p>Changing the criterion from gini to entropy decreases the orginal accuracy of the model from 72% to 71%. Therefore, it is best to use the default value of criterion</p>"
   ]
  },
  {
   "cell_type": "markdown",
   "metadata": {},
   "source": [
    "<div class=\"alert alert-block alert-success\">\n",
    "<b>Success:</b> Parameters tuning was done in the right way.\n",
    "</div>"
   ]
  },
  {
   "cell_type": "markdown",
   "metadata": {},
   "source": [
    "<b>Model: RandomForestClassifier</b>"
   ]
  },
  {
   "cell_type": "code",
   "execution_count": 100,
   "metadata": {},
   "outputs": [
    {
     "name": "stdout",
     "output_type": "stream",
     "text": [
      "Random Forest Accuracy: 77.1 %\n"
     ]
    }
   ],
   "source": [
    "rf_model = RandomForestClassifier(random_state=12345)\n",
    "rf_model.fit(features_train, target_train.values.ravel())\n",
    "rf_accuracy = rf_model.score(features_val, target_val)*100\n",
    "print('Random Forest Accuracy:', rf_accuracy.round(1), '%')\n"
   ]
  },
  {
   "cell_type": "code",
   "execution_count": 101,
   "metadata": {},
   "outputs": [
    {
     "name": "stdout",
     "output_type": "stream",
     "text": [
      "Max Depth 1: 75.3%\n",
      "Max Depth 2: 76.7%\n",
      "Max Depth 3: 78.4%\n",
      "Max Depth 4: 79.0%\n",
      "Max Depth 5: 79.0%\n",
      "Max Depth 6: 79.2%\n",
      "Max Depth 7: 79.3%\n",
      "Max Depth 8: 79.2%\n",
      "Max Depth 9: 78.1%\n",
      "Max Depth 10: 79.0%\n",
      "Max Depth 11: 77.8%\n",
      "Max Depth 12: 78.5%\n",
      "Max Depth 13: 77.4%\n",
      "Max Depth 14: 78.1%\n",
      "Max Depth 15: 76.0%\n",
      "Max Depth 16: 78.2%\n",
      "Max Depth 17: 77.0%\n",
      "Max Depth 18: 77.4%\n",
      "Max Depth 19: 77.4%\n",
      "Max Depth 20: 77.4%\n"
     ]
    }
   ],
   "source": [
    "#Tune Max Depth to get a better performance on the RandomForestClassifier model\n",
    "for i in range(1,21):\n",
    "    rf_model = RandomForestClassifier(max_depth=i, random_state=12345)\n",
    "    rf_model.fit(features_train, target_train.values.ravel())\n",
    "    print('Max Depth ' + str(i)+': ' + str((rf_model.score(features_val, target_val)*100).round(1))+'%')"
   ]
  },
  {
   "cell_type": "code",
   "execution_count": 102,
   "metadata": {},
   "outputs": [
    {
     "name": "stdout",
     "output_type": "stream",
     "text": [
      "Number Estimators 20: 80.4%\n",
      "Number Estimators 40: 80.4%\n",
      "Number Estimators 60: 80.25%\n",
      "Number Estimators 80: 80.56%\n",
      "Number Estimators 100: 80.87%\n",
      "Number Estimators 120: 80.56%\n",
      "Number Estimators 140: 80.87%\n",
      "Number Estimators 160: 80.72%\n",
      "Number Estimators 180: 80.87%\n",
      "Number Estimators 200: 80.4%\n",
      "Number Estimators 220: 80.4%\n",
      "Number Estimators 240: 80.25%\n",
      "Number Estimators 260: 80.25%\n",
      "Number Estimators 280: 80.09%\n",
      "Number Estimators 300: 80.09%\n",
      "Number Estimators 320: 80.09%\n",
      "Number Estimators 340: 80.25%\n",
      "Number Estimators 360: 80.25%\n",
      "Number Estimators 380: 80.25%\n",
      "Number Estimators 400: 80.25%\n",
      "Number Estimators 420: 80.4%\n",
      "Number Estimators 440: 80.25%\n",
      "Number Estimators 460: 80.56%\n",
      "Number Estimators 480: 80.56%\n"
     ]
    }
   ],
   "source": [
    "#Tune n_estimators to get a better performance on the RandomForestClassifier model\n",
    "for i in range(20, 500, 20):\n",
    "    rf_model = RandomForestClassifier(random_state=12345, n_estimators=i, max_depth=7)\n",
    "    rf_model.fit(features_train, target_train.values.ravel())\n",
    "    print('Number Estimators ' + str(i)+': ' + str((rf_model.score(features_val, target_val)*100).round(2))+'%')"
   ]
  },
  {
   "cell_type": "markdown",
   "metadata": {},
   "source": [
    "<b>Conclusion</b>\n",
    "<p>The Random Forest Accuracy gave a higher accuarcy than the  DecisionTreeClassifier without any changes in the hyperparameters. Therefore, I chose this model to use over the DecisionTreeClassifier to achieve the greatest accuracy.</p>\n",
    "<p>By tuning the max_depth hyperparameter, the RandomForestClassifier has a greater accuracy at a Max Depth of 7 nodes at 79.3%.</p>\n",
    "<p>By tuning the n_estimators hyperparameter, the RandomForestClassifer has a greater accuracy when the number of estimators equals 100, 140, and 180 at 80.87%</p>"
   ]
  },
  {
   "cell_type": "markdown",
   "metadata": {},
   "source": [
    "<b>Model: LogisticRegression</b>"
   ]
  },
  {
   "cell_type": "code",
   "execution_count": 103,
   "metadata": {},
   "outputs": [
    {
     "name": "stdout",
     "output_type": "stream",
     "text": [
      "Logistic Regression Accuracy: 72.2 %\n"
     ]
    }
   ],
   "source": [
    "lr_model = LogisticRegression()\n",
    "lr_model.fit(features_train, target_train.values.ravel())\n",
    "lr_accuracy = lr_model.score(features_val, target_val)*100\n",
    "print('Logistic Regression Accuracy:', lr_accuracy.round(1), '%')"
   ]
  },
  {
   "cell_type": "code",
   "execution_count": 104,
   "metadata": {},
   "outputs": [
    {
     "name": "stdout",
     "output_type": "stream",
     "text": [
      "Solver  72.0 %\n"
     ]
    }
   ],
   "source": [
    "#Tune solver to get a better performance on the LogisitcRegression model\n",
    "lr_model = LogisticRegression(solver='lbfgs')\n",
    "lr_model.fit(features_train, target_train.values.ravel())\n",
    "solver = lr_model.score(features_val, target_val)*100\n",
    "print('Solver ', solver.round(1), '%')"
   ]
  },
  {
   "cell_type": "markdown",
   "metadata": {},
   "source": [
    "<b>Conclusion</b>\n",
    "<p>The LogisticRegression accuracy is lower than the RandomForestClassifier even after tuning the solver hyperparameter.</p>"
   ]
  },
  {
   "cell_type": "markdown",
   "metadata": {},
   "source": [
    "<div class=\"alert alert-block alert-success\">\n",
    "<b>Success:</b> Great that you've tried several models.\n",
    "</div>"
   ]
  },
  {
   "cell_type": "markdown",
   "metadata": {},
   "source": [
    "<b>Step 4. Check the quality of the model using the test set</b><a name=\"step4\"></a></b>"
   ]
  },
  {
   "cell_type": "code",
   "execution_count": 105,
   "metadata": {},
   "outputs": [
    {
     "name": "stdout",
     "output_type": "stream",
     "text": [
      "Accuracy: 79.0 %\n"
     ]
    }
   ],
   "source": [
    "#Quality of the Decision Tree Classifer using the test set\n",
    "model = DecisionTreeClassifier(max_depth=7, random_state=12345)\n",
    "model.fit(features_train, target_train)\n",
    "print('Accuracy:', (model.score(features_test, target_test).round(2)*100), '%')"
   ]
  },
  {
   "cell_type": "code",
   "execution_count": 106,
   "metadata": {},
   "outputs": [
    {
     "name": "stdout",
     "output_type": "stream",
     "text": [
      "Accuracy: 81.0 %\n"
     ]
    }
   ],
   "source": [
    "#Quality of the RandomForestClassifer using the test set\n",
    "rf_model = RandomForestClassifier(random_state=12345, n_estimators=140, max_depth=7)\n",
    "rf_model.fit(features_train, target_train.values.ravel())\n",
    "print('Accuracy:', (rf_model.score(features_test, target_test).round(2)*100), '%')"
   ]
  },
  {
   "cell_type": "code",
   "execution_count": 107,
   "metadata": {},
   "outputs": [
    {
     "name": "stdout",
     "output_type": "stream",
     "text": [
      "Accuracy: 70.0 %\n"
     ]
    }
   ],
   "source": [
    "#Quality of the LogisticRegression using the test set\n",
    "lr_model = LogisticRegression()\n",
    "lr_model.fit(features_train, target_train.values.ravel())\n",
    "print('Accuracy:', (lr_model.score(features_test, target_test).round(2)*100), '%')"
   ]
  },
  {
   "cell_type": "markdown",
   "metadata": {},
   "source": [
    "<b>Conclusion</b>\n",
    "<p>Using the test set with the max_depth of 7 and n_estimators of 140 returns the highest accuracy of 81% for the RandomForestClassifier model. The RandomForestClassifier model has a higher accuracy than the DecisionTreeClassifier and the LogisticRegression models. The test set is similar to the real world because it is data that hasn't been used in building the model.</p>"
   ]
  },
  {
   "cell_type": "markdown",
   "metadata": {},
   "source": [
    "<div class=\"alert alert-block alert-success\">\n",
    "<b>Success:</b> Testing was done absolutely right!\n",
    "</div>"
   ]
  },
  {
   "cell_type": "markdown",
   "metadata": {},
   "source": [
    "<b>Step 5. Sanity check the model</b><a name=\"step5\"></a></b>"
   ]
  },
  {
   "cell_type": "code",
   "execution_count": 138,
   "metadata": {},
   "outputs": [],
   "source": [
    "#Dummy classifier to predict everything as zeros\n",
    "sanity = target_test * 0"
   ]
  },
  {
   "cell_type": "code",
   "execution_count": 150,
   "metadata": {},
   "outputs": [
    {
     "name": "stdout",
     "output_type": "stream",
     "text": [
      "Sanity Test: 0.0\n"
     ]
    }
   ],
   "source": [
    "print('Sanity Test:', f1_score(target_test, sanity))"
   ]
  },
  {
   "cell_type": "code",
   "execution_count": 141,
   "metadata": {},
   "outputs": [
    {
     "data": {
      "text/plain": [
       "array([[455,   0],\n",
       "       [188,   0]])"
      ]
     },
     "execution_count": 141,
     "metadata": {},
     "output_type": "execute_result"
    }
   ],
   "source": [
    "confusion_matrix(target_test, sanity)"
   ]
  },
  {
   "cell_type": "code",
   "execution_count": 151,
   "metadata": {},
   "outputs": [
    {
     "name": "stdout",
     "output_type": "stream",
     "text": [
      "Accuracy: 71.0 %\n"
     ]
    }
   ],
   "source": [
    "print('Accuracy:', (accuracy_score(target_test, sanity)*100).round(), '%')"
   ]
  },
  {
   "cell_type": "markdown",
   "metadata": {},
   "source": [
    "<b>Conclusion</b>\n",
    "<p>The sanity test value is 0 because the model is predicting everything to be 0. By looking at the confusion_matrix, we can see that the model accurately predicted 455 values to be 0, but inaccurately predicted that 188 values were 1. This gives us the accuracy value of 71%.<p>"
   ]
  },
  {
   "cell_type": "markdown",
   "metadata": {},
   "source": [
    "<div class=\"alert alert-block alert-success\">\n",
    "<b>Success:</b> Great!\n",
    "</div>\n",
    "\n",
    "<div class=\"alert alert-block alert-info\">\n",
    "<b>Improve: </b> Next time you could use <a href=\"https://scikit-learn.org/stable/modules/generated/sklearn.dummy.DummyClassifier.html\"> DummyClassifier </a>.\n",
    "</div>"
   ]
  },
  {
   "cell_type": "markdown",
   "metadata": {},
   "source": [
    "<b>Overall Conclusion<a name=\"conclusion\"></a></b>\n",
    "<p>There are various machine learning models that can be used to predict a particular outcome. For Megaline, the best model to use is the RandomTreeClassifier because it produces the highest accuracy at 81% to predict the right plan for the customers based on the features of their current plan.</p>"
   ]
  },
  {
   "cell_type": "markdown",
   "metadata": {},
   "source": [
    "<div class=\"alert alert-block alert-info\">\n",
    "<b>Improve: </b> It would be better if overall conclusion would be more detailed.\n",
    "</div>"
   ]
  }
 ],
 "metadata": {
  "kernelspec": {
   "display_name": "Python 3",
   "language": "python",
   "name": "python3"
  },
  "language_info": {
   "codemirror_mode": {
    "name": "ipython",
    "version": 3
   },
   "file_extension": ".py",
   "mimetype": "text/x-python",
   "name": "python",
   "nbconvert_exporter": "python",
   "pygments_lexer": "ipython3",
   "version": "3.7.8"
  },
  "toc": {
   "base_numbering": 1,
   "nav_menu": {},
   "number_sections": true,
   "sideBar": true,
   "skip_h1_title": true,
   "title_cell": "Table of Contents",
   "title_sidebar": "Contents",
   "toc_cell": false,
   "toc_position": {},
   "toc_section_display": true,
   "toc_window_display": false
  }
 },
 "nbformat": 4,
 "nbformat_minor": 2
}
